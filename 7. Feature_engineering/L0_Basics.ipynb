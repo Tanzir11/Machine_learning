{
 "cells": [
  {
   "cell_type": "markdown",
   "metadata": {},
   "source": [
    "Feature Engineering is the process of using domain knowledge to extract feature from raw data. these features can be used to improve the performance of machine learning algorithms"
   ]
  },
  {
   "cell_type": "markdown",
   "metadata": {},
   "source": [
    "Feature Engineering is broadly classified into the following parts:\n",
    "1. Feature Transformation: Basically transforming a column so that it can perform better while training. It has the following part\n",
    "    * Missing Value Imputation\n",
    "    * Handeling Categorical Feature\n",
    "    * Outlier Detection\n",
    "    * Feature Scaling\n",
    "2. Feature Construction: Sometimes few features aren't available in our data and the generations of such features are called feature Construction.\n",
    "3. Feature Selection: Removal of irrelavant data or feature from the input are called feature Selection\n",
    "4. Feature Extraction: From the given feature extracting few feature."
   ]
  },
  {
   "cell_type": "markdown",
   "metadata": {},
   "source": [
    "## Feature Transformation"
   ]
  },
  {
   "cell_type": "markdown",
   "metadata": {},
   "source": [
    "### Missing values"
   ]
  },
  {
   "cell_type": "markdown",
   "metadata": {},
   "source": [
    "Scikit learn does not accept the missing values so before training the model we try to either remove the missing values or fill the missing values"
   ]
  },
  {
   "cell_type": "markdown",
   "metadata": {},
   "source": [
    "## Handeling categorical values"
   ]
  },
  {
   "cell_type": "markdown",
   "metadata": {},
   "source": [
    "Scikit learn works with numerical values only. so we will be transforming the categorical values which isnt numbers to numbers this technique is called one hot encodings"
   ]
  },
  {
   "cell_type": "markdown",
   "metadata": {},
   "source": [
    "## Outlier detection"
   ]
  },
  {
   "cell_type": "markdown",
   "metadata": {},
   "source": [
    "Outliers are basically the kind of data which are different then the general trend observed within the data. So we will handle such data as well."
   ]
  },
  {
   "cell_type": "markdown",
   "metadata": {},
   "source": [
    "## Feature Scaling"
   ]
  },
  {
   "cell_type": "markdown",
   "metadata": {},
   "source": [
    "Some times the scale of the feature would be very different so we will be handeling that as welll."
   ]
  },
  {
   "cell_type": "markdown",
   "metadata": {},
   "source": [
    "## Feature Construction"
   ]
  },
  {
   "cell_type": "markdown",
   "metadata": {},
   "source": [
    "We will merge some data to get some new data and that's called featire construction"
   ]
  },
  {
   "cell_type": "markdown",
   "metadata": {},
   "source": [
    "## Feature Selection"
   ]
  },
  {
   "cell_type": "markdown",
   "metadata": {},
   "source": [
    "Selecting some specific feature amongs all the feature present"
   ]
  },
  {
   "cell_type": "code",
   "execution_count": null,
   "metadata": {
    "vscode": {
     "languageId": "plaintext"
    }
   },
   "outputs": [],
   "source": []
  }
 ],
 "metadata": {
  "language_info": {
   "name": "python"
  }
 },
 "nbformat": 4,
 "nbformat_minor": 2
}
