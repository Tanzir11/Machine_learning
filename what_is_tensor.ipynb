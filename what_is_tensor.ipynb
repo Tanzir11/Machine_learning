{
 "cells": [
  {
   "cell_type": "markdown",
   "metadata": {},
   "source": [
    "Tensor is a data structure, all the leading libraries like scikit learn, tensorflow, and pytorch are made on top of tensor."
   ]
  },
  {
   "cell_type": "markdown",
   "metadata": {},
   "source": [
    "### 0D Tensor/Scalar"
   ]
  },
  {
   "cell_type": "code",
   "execution_count": 11,
   "metadata": {},
   "outputs": [
    {
     "name": "stdout",
     "output_type": "stream",
     "text": [
      "the dimention of 4 array is 0\n"
     ]
    }
   ],
   "source": [
    "import numpy as np\n",
    "\n",
    "a = np.array(4)\n",
    "print(f\"the dimention of {a} array is {a.ndim}\") # The output would be 0 i.e it's a scalar"
   ]
  },
  {
   "cell_type": "markdown",
   "metadata": {},
   "source": [
    "### 1D Tensor/Vectors"
   ]
  },
  {
   "cell_type": "code",
   "execution_count": 20,
   "metadata": {},
   "outputs": [
    {
     "name": "stdout",
     "output_type": "stream",
     "text": [
      "The dimention of b = np.array([1,2]) i.e [1 2 3 4] is 1 which means this array is a vector but the dimention of vector is 2 dimentional vector because it has 2 elements\n"
     ]
    }
   ],
   "source": [
    "b = np.array([1,2,3,4])\n",
    "print(f\"The dimention of b = np.array([1,2]) i.e {b} is {b.ndim} which means this array is a vector but the dimention of vector is 2 dimentional vector because it has 2 elements\")"
   ]
  },
  {
   "cell_type": "markdown",
   "metadata": {},
   "source": [
    "**1 dimentional array is vector and since we have 4 elements inside it, it's a 4 dimentional vector as well**"
   ]
  },
  {
   "cell_type": "code",
   "execution_count": 22,
   "metadata": {},
   "outputs": [
    {
     "name": "stdout",
     "output_type": "stream",
     "text": [
      "The dimention of c = np.array([1,2]) i.e [1 2] is 1 which means this array is a vector but the dimention of vector is 2 dimentional vector because it has 2 elements\n"
     ]
    }
   ],
   "source": [
    "# similarly\n",
    "c = np.array([1,2])\n",
    "print(f\"The dimention of c = np.array([1,2]) i.e {c} is {c.ndim} which means this array is a vector but the dimention of vector is 2 dimentional vector because it has 2 elements\")"
   ]
  },
  {
   "cell_type": "markdown",
   "metadata": {},
   "source": [
    "### 2D Tensors/Matrices"
   ]
  },
  {
   "cell_type": "code",
   "execution_count": 24,
   "metadata": {},
   "outputs": [
    {
     "name": "stdout",
     "output_type": "stream",
     "text": [
      "the dimention of [[1 2 3 4]\n",
      " [2 3 5 6]] array is 2 which is now an n dimentional array\n"
     ]
    }
   ],
   "source": [
    "d = np.array([[1,2,3,4],[2,3,5,6]])\n",
    "print(f\"the dimention of {d} array is {d.ndim} which is now an n dimentional array\")"
   ]
  },
  {
   "cell_type": "code",
   "execution_count": 26,
   "metadata": {},
   "outputs": [
    {
     "name": "stdout",
     "output_type": "stream",
     "text": [
      "the dimention of [[[1 2 3]\n",
      "  [4 5 6]]\n",
      "\n",
      " [[3 4 5]\n",
      "  [5 6 7]]] array is 3 which is now an n dimentional array\n"
     ]
    }
   ],
   "source": [
    "e = np.array([[[1,2,3],\n",
    "               [4,5,6]],\n",
    "               [[3,4,5],\n",
    "                [5,6,7]]])\n",
    "print(f\"the dimention of {e} array is {e.ndim} which is now an n dimentional array\")"
   ]
  },
  {
   "cell_type": "markdown",
   "metadata": {},
   "source": [
    "## Rank Axes and Shapes"
   ]
  },
  {
   "cell_type": "markdown",
   "metadata": {},
   "source": [
    "No. of axis = rank = no. of dimentions"
   ]
  },
  {
   "cell_type": "markdown",
   "metadata": {},
   "source": [
    "### Shape of a tensor"
   ]
  },
  {
   "cell_type": "code",
   "execution_count": 30,
   "metadata": {},
   "outputs": [
    {
     "name": "stdout",
     "output_type": "stream",
     "text": [
      "We had the following metrices: 4, [1 2 3 4], [1 2], [[1 2 3 4]\n",
      " [2 3 5 6]], and [[[1 2 3]\n",
      "  [4 5 6]]\n",
      "\n",
      " [[3 4 5]\n",
      "  [5 6 7]]]. The shape of each of those metrices are as follows: (), (4,), (2,), (2, 4), and (2, 2, 3)\n"
     ]
    }
   ],
   "source": [
    "print(f\"We had the following metrices: {a}, {b}, {c}, {d}, and {e}. The shape of each of those metrices are as follows: {a.shape}, {b.shape}, {c.shape}, {d.shape}, and {e.shape}\")"
   ]
  },
  {
   "cell_type": "markdown",
   "metadata": {},
   "source": [
    "As we can see \"a\" is a zero dimentional matrix because it has no shape, while \"b\",and \"c\" had just 1 dimention, \"d\" had 2 dimentions rows and columns while \"e\" has 3 dimentions i.e rows, columns and depth which is basically a cube in a way."
   ]
  },
  {
   "cell_type": "markdown",
   "metadata": {},
   "source": [
    "### Size of a tensor"
   ]
  },
  {
   "cell_type": "markdown",
   "metadata": {},
   "source": [
    "Size of a tensor is defined as the total element within a tensor."
   ]
  },
  {
   "cell_type": "code",
   "execution_count": 35,
   "metadata": {},
   "outputs": [
    {
     "name": "stdout",
     "output_type": "stream",
     "text": [
      "the size of a scalor tensor is always 1 no matter what is the total number of elements present in them, while the size of b is 4 so the number of elements in b tensor will be equal to it's size similary the size of e tensor is 12\n"
     ]
    }
   ],
   "source": [
    "print(f\"the size of a scalor tensor is always 1 no matter what is the total number of elements present in them, while the size of b is {b.size} so the number of elements in b tensor will be equal to it's size similary the size of e tensor is {e.size}\")"
   ]
  },
  {
   "cell_type": "code",
   "execution_count": null,
   "metadata": {},
   "outputs": [],
   "source": []
  }
 ],
 "metadata": {
  "kernelspec": {
   "display_name": "venv",
   "language": "python",
   "name": "python3"
  },
  "language_info": {
   "codemirror_mode": {
    "name": "ipython",
    "version": 3
   },
   "file_extension": ".py",
   "mimetype": "text/x-python",
   "name": "python",
   "nbconvert_exporter": "python",
   "pygments_lexer": "ipython3",
   "version": "3.10.9"
  }
 },
 "nbformat": 4,
 "nbformat_minor": 2
}
