{
 "cells": [
  {
   "cell_type": "markdown",
   "metadata": {},
   "source": [
    "API = application programming interface"
   ]
  },
  {
   "cell_type": "markdown",
   "metadata": {},
   "source": [
    "API are nothing but data pipeline"
   ]
  },
  {
   "cell_type": "code",
   "execution_count": 2,
   "metadata": {},
   "outputs": [
    {
     "name": "stdout",
     "output_type": "stream",
     "text": [
      "Collecting requests\n",
      "  Using cached requests-2.31.0-py3-none-any.whl (62 kB)\n",
      "Collecting certifi>=2017.4.17\n",
      "  Using cached certifi-2024.2.2-py3-none-any.whl (163 kB)\n",
      "Collecting charset-normalizer<4,>=2\n",
      "  Using cached charset_normalizer-3.3.2-cp310-cp310-win_amd64.whl (100 kB)\n",
      "Collecting urllib3<3,>=1.21.1\n",
      "  Using cached urllib3-2.2.1-py3-none-any.whl (121 kB)\n",
      "Collecting idna<4,>=2.5\n",
      "  Using cached idna-3.6-py3-none-any.whl (61 kB)\n",
      "Installing collected packages: urllib3, idna, charset-normalizer, certifi, requests\n",
      "Successfully installed certifi-2024.2.2 charset-normalizer-3.3.2 idna-3.6 requests-2.31.0 urllib3-2.2.1\n",
      "Note: you may need to restart the kernel to use updated packages.\n"
     ]
    },
    {
     "name": "stderr",
     "output_type": "stream",
     "text": [
      "\n",
      "[notice] A new release of pip available: 22.3.1 -> 24.0\n",
      "[notice] To update, run: c:\\My Files\\100 Days of Machine Learning\\venv\\Scripts\\python.exe -m pip install --upgrade pip\n"
     ]
    }
   ],
   "source": [
    "pip install requests"
   ]
  },
  {
   "cell_type": "code",
   "execution_count": 3,
   "metadata": {},
   "outputs": [],
   "source": [
    "import pandas as pd\n",
    "import requests"
   ]
  },
  {
   "cell_type": "markdown",
   "metadata": {},
   "source": [
    "my tmdb api key was bdb8572e4f633e811a0a00aeaba70fe8"
   ]
  },
  {
   "cell_type": "code",
   "execution_count": 4,
   "metadata": {},
   "outputs": [],
   "source": [
    "url = \"https://api.themoviedb.org/3/tv/top_rated?api_key=bdb8572e4f633e811a0a00aeaba70fe8&language=en-US&page=1\"\n",
    "response = requests.get(url)"
   ]
  },
  {
   "cell_type": "markdown",
   "metadata": {},
   "source": [
    "The url variable holds very interesting information. i.e the file location is at: https://api.themoviedb.org/3/tv/top_rated? the api_key variable holds my api key and then the language and the page which i am scrapping which as of now is 1"
   ]
  },
  {
   "cell_type": "markdown",
   "metadata": {},
   "source": [
    "### To get the response in text format"
   ]
  },
  {
   "cell_type": "code",
   "execution_count": 5,
   "metadata": {},
   "outputs": [
    {
     "data": {
      "text/plain": [
       "'{\"page\":1,\"results\":[{\"adult\":false,\"backdrop_path\":\"/AvsNXUbP7UKCVnypyx2eWp8z2N3.jpg\",\"genre_ids\":[16,35,10765],\"id\":94954,\"origin_country\":[\"US\"],\"original_language\":\"en\",\"original_name\":\"Hazbin Hotel\",\"overview\":\"In attempt to find a non-violent alternative for reducing Hell\\'s overpopulation, the daughter of Lucifer opens a rehabilitation hotel that offers a group of misfit demons a chance at redemption.\",\"popularity\":370.499,\"poster_path\":\"/rXojaQcxVUubPLSrFV8PD4xdjrs.jpg\",\"first_air_date\":\"2024-01-18\",\"name\":\"Hazbin Hotel\",\"vote_average\":9.058,\"vote_count\":695},{\"adult\":false,\"backdrop_path\":\"/9faGSFi5jam6pDWGNd0p8JcJgXQ.jpg\",\"genre_ids\":[18,80],\"id\":1396,\"origin_country\":[\"US\"],\"original_language\":\"en\",\"original_name\":\"Breaking Bad\",\"overview\":\"Walter White, a New Mexico chemistry teacher, is diagnosed with Stage III cancer and given a prognosis of only two years left to live. He becomes filled with a sense of fearlessness and an unrelenting desire to secure his family\\'s financial future at any cost as he enters the dangerous world of drugs and crime.\",\"popularity\":593.872,\"poster_path\":\"/ztkUQFLlC19CCMYHW9o1zWhJRNq.jpg\",\"first_air_date\":\"2008-01-20\",\"name\":\"Breaking Bad\",\"vote_average\":8.904,\"vote_count\":13224},{\"adult\":false,\"backdrop_path\":\"/rkB4LyZHo1NHXFEDHl9vSD9r1lI.jpg\",\"genre_ids\":[16,18,10765,10759],\"id\":94605,\"origin_country\":[\"US\"],\"original_language\":\"en\",\"original_name\":\"Arcane\",\"overview\":\"Amid the stark discord of twin cities Piltover and Zaun, two sisters fight on rival sides of a war between magic technologies and clashing convictions.\",\"popularity\":94.756,\"poster_path\":\"/fqldf2t8ztc9aiwn3k6mlX3tvRT.jpg\",\"first_air_date\":\"2021-11-06\",\"name\":\"Arcane\",\"vote_average\":8.752,\"vote_count\":3656},{\"adult\":false,\"backdrop_path\":\"/2rmK7mnchw9Xr3XdiTFSxTTLXqv.jpg\",\"genre_ids\":[10759,35,16],\"id\":37854,\"origin_country\":[\"JP\"],\"original_language\":\"ja\",\"original_name\":\"ワンピース\",\"overview\":\"Years ago, the fearsome Pirate King, Gol D. Roger was executed leaving a huge pile of treasure and the famous \\\\\"One Piece\\\\\" behind. Whoever claims the \\\\\"One Piece\\\\\" will be named the new King of the Pirates.\\\\n\\\\nMonkey D. Luffy, a boy who consumed a \\\\\"Devil Fruit,\\\\\" decides to follow in the footsteps of his idol, the pirate Shanks, and find the One Piece. It helps, of course, that his body has the properties of rubber and that he\\'s surrounded by a bevy of skilled fighters and thieves to help him along the way.\\\\n\\\\nLuffy will do anything to get the One Piece and become King of the Pirates!\",\"popularity\":289.955,\"poster_path\":\"/cMD9Ygz11zjJzAovURpO75Qg7rT.jpg\",\"first_air_date\":\"1999-10-20\",\"name\":\"One Piece\",\"vote_average\":8.725,\"vote_count\":4357},{\"adult\":false,\"backdrop_path\":\"/kU98MbVVgi72wzceyrEbClZmMFe.jpg\",\"genre_ids\":[16,10759,10765],\"id\":246,\"origin_country\":[\"US\"],\"original_language\":\"en\",\"original_name\":\"Avatar: The Last Airbender\",\"overview\":\"In a war-torn world of elemental magic, a young boy reawakens to undertake a dangerous mystic quest to fulfill his destiny as the Avatar, and bring peace to the world.\",\"popularity\":292.363,\"poster_path\":\"/5HK6t0yxt0p0L5d3lI7H6iU8YsV.jpg\",\"first_air_date\":\"2005-02-21\",\"name\":\"Avatar: The Last Airbender\",\"vote_average\":8.713,\"vote_count\":3792},{\"adult\":false,\"backdrop_path\":\"/rBF8wVQN8hTWHspVZBlI3h7HZJ.jpg\",\"genre_ids\":[16,35,10765,10759],\"id\":60625,\"origin_country\":[\"US\"],\"original_language\":\"en\",\"original_name\":\"Rick and Morty\",\"overview\":\"Rick is a mentally-unbalanced but scientifically gifted old man who has recently reconnected with his family. He spends most of his time involving his young grandson Morty in dangerous, outlandish adventures throughout space and alternate universes. Compounded with Morty\\'s already unstable family life, these events cause Morty much distress at home and school.\",\"popularity\":649.674,\"poster_path\":\"/gdIrmf2DdY5mgN6ycVP0XlzKzbE.jpg\",\"first_air_date\":\"2013-12-02\",\"name\":\"Rick and Morty\",\"vote_average\":8.702,\"vote_count\":9220},{\"adult\":false,\"backdrop_path\":\"/97cicAYWu4cc0TyXJoDQiMmWI2t.jpg\",\"genre_ids\":[10759,16,10765,35,18],\"id\":31911,\"origin_country\":[\"JP\"],\"original_language\":\"ja\",\"original_name\":\"鋼の錬金術師 FULLMETAL ALCHEMIST\",\"overview\":\"Disregard for alchemy’s laws ripped half of Edward Elric’s limbs from his body and left his brother Alphonse’s soul clinging to a suit of armor. To restore what was lost, the brothers seek the Philosopher’s Stone. Enemies and allies – the corrupt military, the Homunculi, and foreign alchemists – will alter the Elric brothers course, but their purpose will remain unchanged and their bond unbreakable.\",\"popularity\":263.416,\"poster_path\":\"/5ZFUEOULaVml7pQuXxhpR2SmVUw.jpg\",\"first_air_date\":\"2009-04-05\",\"name\":\"Fullmetal Alchemist: Brotherhood\",\"vote_average\":8.694,\"vote_count\":1882},{\"adult\":false,\"backdrop_path\":\"/70YdbMELM4b8x8VXjlubymb2bQ0.jpg\",\"genre_ids\":[18,10751],\"id\":70785,\"origin_country\":[\"CA\"],\"original_language\":\"en\",\"original_name\":\"Anne with an E\",\"overview\":\"A coming-of-age story about an outsider who, against all odds and numerous challenges, fights for love and acceptance and for her place in the world. The series centers on a young orphaned girl in the late 1890’s, who, after an abusive childhood spent in orphanages and the homes of strangers, is mistakenly sent to live with an elderly woman and her aging brother. Over time, 13-year-old Anne will transform their lives and eventually the small town in which they live with her unique spirit, fierce intellect and brilliant imagination.\",\"popularity\":121.884,\"poster_path\":\"/6P6tXhjT5tK3qOXzxF9OMLlG7iz.jpg\",\"first_air_date\":\"2017-03-19\",\"name\":\"Anne with an E\",\"vote_average\":8.7,\"vote_count\":4505},{\"adult\":false,\"backdrop_path\":\"/mGFRWVfH0HTTVighIXjtO2Vkz4z.jpg\",\"genre_ids\":[10759,16,18],\"id\":225180,\"origin_country\":[\"US\"],\"original_language\":\"en\",\"original_name\":\"BLUE EYE SAMURAI\",\"overview\":\"Driven by a dream of revenge against those who made her an outcast in Edo-period Japan, a young warrior cuts a bloody path toward her destiny.\",\"popularity\":96.274,\"poster_path\":\"/fXm3JT4WLQVnwukdvghtAblc1wc.jpg\",\"first_air_date\":\"2023-11-03\",\"name\":\"BLUE EYE SAMURAI\",\"vote_average\":8.678,\"vote_count\":259},{\"adult\":false,\"backdrop_path\":\"/nTvM4mhqNlHIvUkI1gVnW6XP7GG.jpg\",\"genre_ids\":[16,10759,10765],\"id\":85937,\"origin_country\":[\"JP\"],\"original_language\":\"ja\",\"original_name\":\"鬼滅の刃\",\"overview\":\"It is the Taisho Period in Japan. Tanjiro, a kindhearted boy who sells charcoal for a living, finds his family slaughtered by a demon. To make matters worse, his younger sister Nezuko, the sole survivor, has been transformed into a demon herself. Though devastated by this grim reality, Tanjiro resolves to become a “demon slayer” so that he can turn his sister back into a human, and kill the demon that massacred his family.\",\"popularity\":142.151,\"poster_path\":\"/xUfRZu2mi8jH6SzQEJGP6tjBuYj.jpg\",\"first_air_date\":\"2019-04-06\",\"name\":\"Demon Slayer: Kimetsu no Yaiba\",\"vote_average\":8.7,\"vote_count\":5921},{\"adult\":false,\"backdrop_path\":\"/7iTOLVTKoBLwDYcoOA1qTS6NY5y.jpg\",\"genre_ids\":[16,10762,35],\"id\":82728,\"origin_country\":[\"AU\"],\"original_language\":\"en\",\"original_name\":\"Bluey\",\"overview\":\"Bluey is an inexhaustible six year-old Blue Heeler dog, who loves to play and turns everyday family life into extraordinary adventures, developing her imagination as well as her mental, physical and emotional resilience.\",\"popularity\":371.5,\"poster_path\":\"/b9mY0X5T20ZM073hoa5n0dgmbfN.jpg\",\"first_air_date\":\"2018-10-01\",\"name\":\"Bluey\",\"vote_average\":8.672,\"vote_count\":433},{\"adult\":false,\"backdrop_path\":\"/hPea3Qy5Gd6z4kJLUruBbwAH8Rm.jpg\",\"genre_ids\":[80,18],\"id\":60059,\"origin_country\":[\"US\"],\"original_language\":\"en\",\"original_name\":\"Better Call Saul\",\"overview\":\"Six years before Saul Goodman meets Walter White. We meet him when the man who will become Saul Goodman is known as Jimmy McGill, a small-time lawyer searching for his destiny, and, more immediately, hustling to make ends meet. Working alongside, and, often, against Jimmy, is “fixer” Mike Ehrmantraut. The series tracks Jimmy’s transformation into Saul Goodman, the man who puts “criminal” in “criminal lawyer\\\\\".\",\"popularity\":374.317,\"poster_path\":\"/fC2HDm5t0kHl7mTm7jxMR31b7by.jpg\",\"first_air_date\":\"2015-02-08\",\"name\":\"Better Call Saul\",\"vote_average\":8.665,\"vote_count\":4724},{\"adult\":false,\"backdrop_path\":\"/20eIP9o5ebArmu2HxJutaBjhLf4.jpg\",\"genre_ids\":[18],\"id\":87108,\"origin_country\":[\"US\"],\"original_language\":\"en\",\"original_name\":\"Chernobyl\",\"overview\":\"The true story of one of the worst man-made catastrophes in history: the catastrophic nuclear accident at Chernobyl. A tale of the brave men and women who sacrificed to save Europe from unimaginable disaster.\",\"popularity\":143.258,\"poster_path\":\"/hlLXt2tOPT6RRnjiUmoxyG1LTFi.jpg\",\"first_air_date\":\"2019-05-06\",\"name\":\"Chernobyl\",\"vote_average\":8.66,\"vote_count\":5776},{\"adult\":false,\"backdrop_path\":\"/2w8FaLwwJTWr6ExUMeVgT2Th5YT.jpg\",\"genre_ids\":[16,35,18,10759],\"id\":42705,\"origin_country\":[\"JP\"],\"original_language\":\"ja\",\"original_name\":\"はじめの一歩\",\"overview\":\"Makunouchi Ippo is an ordinary high school student in Japan. Since he spends most of his time away from school helping his mother run the family business, he doesn\\'t get to enjoy his younger years like most teenagers. Always a target for bullying at school (the family fishing business grants him a distinct odor), Ippo\\'s life is one of hardship. One of these after-school bullying sessions turns Ippo\\'s life around for the better, as he is saved by a boxer named Takamura. He decides to follow in Takamura\\'s footsteps and train to become a boxer, giving his life direction and purpose. Ippo\\'s path to perfecting his pugilistic prowess is just beginning...\",\"popularity\":357.631,\"poster_path\":\"/i3U3J2MWovIBZBnZYYiOLBXqNJZ.jpg\",\"first_air_date\":\"2000-10-03\",\"name\":\"Fighting Spirit\",\"vote_average\":8.659,\"vote_count\":941},{\"adult\":false,\"backdrop_path\":\"/cHyY5z4txdVyGtYMvBJhCqCcJso.jpg\",\"genre_ids\":[16,10765,18,10759,35],\"id\":92685,\"origin_country\":[\"US\"],\"original_language\":\"en\",\"original_name\":\"The Owl House\",\"overview\":\"An animated fantasy-comedy series that follows Luz, a self-assured teenage girl who accidentally stumbles upon a portal to a magical world where she befriends a rebellious witch, Eda, and an adorably tiny warrior, King. Despite not having magical abilities, Luz pursues her dream of becoming a witch by serving as Eda\\'s apprentice at the Owl House and ultimately finds a new family in an unlikely setting.\",\"popularity\":246.925,\"poster_path\":\"/zhdy3PcNVE15wj1wrxn45ARZBnx.jpg\",\"first_air_date\":\"2020-01-10\",\"name\":\"The Owl House\",\"vote_average\":8.658,\"vote_count\":1480},{\"adult\":false,\"backdrop_path\":\"/rqbCbjB19amtOtFQbb3K2lgm2zv.jpg\",\"genre_ids\":[16,10765,10759],\"id\":1429,\"origin_country\":[\"JP\"],\"original_language\":\"ja\",\"original_name\":\"進撃の巨人\",\"overview\":\"Several hundred years ago, humans were nearly exterminated by Titans. Titans are typically several stories tall, seem to have no intelligence, devour human beings and, worst of all, seem to do it for the pleasure rather than as a food source. A small percentage of humanity survived by walling themselves in a city protected by extremely high walls, even taller than the biggest Titans. Flash forward to the present and the city has not seen a Titan in over 100 years. Teenage boy Eren and his foster sister Mikasa witness something horrific as the city walls are destroyed by a Colossal Titan that appears out of thin air. As the smaller Titans flood the city, the two kids watch in horror as their mother is eaten alive. Eren vows that he will murder every single Titan and take revenge for all of mankind.\",\"popularity\":192.506,\"poster_path\":\"/hTP1DtLGFamjfu8WqjnuQdP1n4i.jpg\",\"first_air_date\":\"2013-04-07\",\"name\":\"Attack on Titan\",\"vote_average\":8.658,\"vote_count\":5942},{\"adult\":false,\"backdrop_path\":\"/6UH52Fmau8RPsMAbQbjwN3wJSCj.jpg\",\"genre_ids\":[16,10765,10759,18],\"id\":95557,\"origin_country\":[\"US\"],\"original_language\":\"en\",\"original_name\":\"Invincible\",\"overview\":\"Mark Grayson is a normal teenager except for the fact that his father is the most powerful superhero on the planet. Shortly after his seventeenth birthday, Mark begins to develop powers of his own and enters into his father’s tutelage.\",\"popularity\":188.514,\"poster_path\":\"/dMOpdkrDC5dQxqNydgKxXjBKyAc.jpg\",\"first_air_date\":\"2021-03-25\",\"name\":\"Invincible\",\"vote_average\":8.656,\"vote_count\":4086},{\"adult\":false,\"backdrop_path\":\"/smSbK5cd8T9XHcxEUcems23BDEF.jpg\",\"genre_ids\":[18,10765,35],\"id\":67915,\"origin_country\":[\"KR\"],\"original_language\":\"ko\",\"original_name\":\"쓸쓸하고 찬란하神-도깨비\",\"overview\":\"In his quest for a bride to break his immortal curse, a 939-year-old guardian of souls meets a grim reaper and a sprightly student with a tragic past.\",\"popularity\":111.738,\"poster_path\":\"/sPkxHNw5BFvuCFGWw825TS7n6X3.jpg\",\"first_air_date\":\"2016-12-02\",\"name\":\"Goblin\",\"vote_average\":8.652,\"vote_count\":2599},{\"adult\":false,\"backdrop_path\":\"/jsXKG9uppnPrhqFNhImllyCfLhl.jpg\",\"genre_ids\":[10759,16,10765],\"id\":65930,\"origin_country\":[\"JP\"],\"original_language\":\"ja\",\"original_name\":\"僕のヒーローアカデミア\",\"overview\":\"A superhero-admiring boy without any powers enrolls in a prestigious hero academy and learns what it really means to be a hero.\",\"popularity\":103.88,\"poster_path\":\"/qIKNIkxXYIro6JjNIGyqumrVUKL.jpg\",\"first_air_date\":\"2016-04-03\",\"name\":\"My Hero Academia\",\"vote_average\":8.6,\"vote_count\":4651},{\"adult\":false,\"backdrop_path\":\"/mOlEbXcb6ufRJKogI35KqsSlCfB.jpg\",\"genre_ids\":[16,9648,10765],\"id\":13916,\"origin_country\":[\"JP\"],\"original_language\":\"ja\",\"original_name\":\"DEATH NOTE\",\"overview\":\"Light Yagami is an ace student with great prospects—and he’s bored out of his mind. But all that changes when he finds the Death Note, a notebook dropped by a rogue Shinigami death god. Any human whose name is written in the notebook dies, and Light has vowed to use the power of the Death Note to rid the world of evil. But will Light succeed in his noble goal, or will the Death Note turn him into the very thing he fights against?\",\"popularity\":124.555,\"poster_path\":\"/tCZFfYTIwrR7n94J6G14Y4hAFU6.jpg\",\"first_air_date\":\"2006-10-04\",\"name\":\"Death Note\",\"vote_average\":8.637,\"vote_count\":3844}],\"total_pages\":96,\"total_results\":1917}'"
      ]
     },
     "execution_count": 5,
     "metadata": {},
     "output_type": "execute_result"
    }
   ],
   "source": [
    "response.text"
   ]
  },
  {
   "cell_type": "markdown",
   "metadata": {},
   "source": [
    "### To get the response in json format"
   ]
  },
  {
   "cell_type": "code",
   "execution_count": 6,
   "metadata": {},
   "outputs": [
    {
     "data": {
      "text/plain": [
       "{'page': 1,\n",
       " 'results': [{'adult': False,\n",
       "   'backdrop_path': '/AvsNXUbP7UKCVnypyx2eWp8z2N3.jpg',\n",
       "   'genre_ids': [16, 35, 10765],\n",
       "   'id': 94954,\n",
       "   'origin_country': ['US'],\n",
       "   'original_language': 'en',\n",
       "   'original_name': 'Hazbin Hotel',\n",
       "   'overview': \"In attempt to find a non-violent alternative for reducing Hell's overpopulation, the daughter of Lucifer opens a rehabilitation hotel that offers a group of misfit demons a chance at redemption.\",\n",
       "   'popularity': 370.499,\n",
       "   'poster_path': '/rXojaQcxVUubPLSrFV8PD4xdjrs.jpg',\n",
       "   'first_air_date': '2024-01-18',\n",
       "   'name': 'Hazbin Hotel',\n",
       "   'vote_average': 9.058,\n",
       "   'vote_count': 695},\n",
       "  {'adult': False,\n",
       "   'backdrop_path': '/9faGSFi5jam6pDWGNd0p8JcJgXQ.jpg',\n",
       "   'genre_ids': [18, 80],\n",
       "   'id': 1396,\n",
       "   'origin_country': ['US'],\n",
       "   'original_language': 'en',\n",
       "   'original_name': 'Breaking Bad',\n",
       "   'overview': \"Walter White, a New Mexico chemistry teacher, is diagnosed with Stage III cancer and given a prognosis of only two years left to live. He becomes filled with a sense of fearlessness and an unrelenting desire to secure his family's financial future at any cost as he enters the dangerous world of drugs and crime.\",\n",
       "   'popularity': 593.872,\n",
       "   'poster_path': '/ztkUQFLlC19CCMYHW9o1zWhJRNq.jpg',\n",
       "   'first_air_date': '2008-01-20',\n",
       "   'name': 'Breaking Bad',\n",
       "   'vote_average': 8.904,\n",
       "   'vote_count': 13224},\n",
       "  {'adult': False,\n",
       "   'backdrop_path': '/rkB4LyZHo1NHXFEDHl9vSD9r1lI.jpg',\n",
       "   'genre_ids': [16, 18, 10765, 10759],\n",
       "   'id': 94605,\n",
       "   'origin_country': ['US'],\n",
       "   'original_language': 'en',\n",
       "   'original_name': 'Arcane',\n",
       "   'overview': 'Amid the stark discord of twin cities Piltover and Zaun, two sisters fight on rival sides of a war between magic technologies and clashing convictions.',\n",
       "   'popularity': 94.756,\n",
       "   'poster_path': '/fqldf2t8ztc9aiwn3k6mlX3tvRT.jpg',\n",
       "   'first_air_date': '2021-11-06',\n",
       "   'name': 'Arcane',\n",
       "   'vote_average': 8.752,\n",
       "   'vote_count': 3656},\n",
       "  {'adult': False,\n",
       "   'backdrop_path': '/2rmK7mnchw9Xr3XdiTFSxTTLXqv.jpg',\n",
       "   'genre_ids': [10759, 35, 16],\n",
       "   'id': 37854,\n",
       "   'origin_country': ['JP'],\n",
       "   'original_language': 'ja',\n",
       "   'original_name': 'ワンピース',\n",
       "   'overview': 'Years ago, the fearsome Pirate King, Gol D. Roger was executed leaving a huge pile of treasure and the famous \"One Piece\" behind. Whoever claims the \"One Piece\" will be named the new King of the Pirates.\\n\\nMonkey D. Luffy, a boy who consumed a \"Devil Fruit,\" decides to follow in the footsteps of his idol, the pirate Shanks, and find the One Piece. It helps, of course, that his body has the properties of rubber and that he\\'s surrounded by a bevy of skilled fighters and thieves to help him along the way.\\n\\nLuffy will do anything to get the One Piece and become King of the Pirates!',\n",
       "   'popularity': 289.955,\n",
       "   'poster_path': '/cMD9Ygz11zjJzAovURpO75Qg7rT.jpg',\n",
       "   'first_air_date': '1999-10-20',\n",
       "   'name': 'One Piece',\n",
       "   'vote_average': 8.725,\n",
       "   'vote_count': 4357},\n",
       "  {'adult': False,\n",
       "   'backdrop_path': '/kU98MbVVgi72wzceyrEbClZmMFe.jpg',\n",
       "   'genre_ids': [16, 10759, 10765],\n",
       "   'id': 246,\n",
       "   'origin_country': ['US'],\n",
       "   'original_language': 'en',\n",
       "   'original_name': 'Avatar: The Last Airbender',\n",
       "   'overview': 'In a war-torn world of elemental magic, a young boy reawakens to undertake a dangerous mystic quest to fulfill his destiny as the Avatar, and bring peace to the world.',\n",
       "   'popularity': 292.363,\n",
       "   'poster_path': '/5HK6t0yxt0p0L5d3lI7H6iU8YsV.jpg',\n",
       "   'first_air_date': '2005-02-21',\n",
       "   'name': 'Avatar: The Last Airbender',\n",
       "   'vote_average': 8.713,\n",
       "   'vote_count': 3792},\n",
       "  {'adult': False,\n",
       "   'backdrop_path': '/rBF8wVQN8hTWHspVZBlI3h7HZJ.jpg',\n",
       "   'genre_ids': [16, 35, 10765, 10759],\n",
       "   'id': 60625,\n",
       "   'origin_country': ['US'],\n",
       "   'original_language': 'en',\n",
       "   'original_name': 'Rick and Morty',\n",
       "   'overview': \"Rick is a mentally-unbalanced but scientifically gifted old man who has recently reconnected with his family. He spends most of his time involving his young grandson Morty in dangerous, outlandish adventures throughout space and alternate universes. Compounded with Morty's already unstable family life, these events cause Morty much distress at home and school.\",\n",
       "   'popularity': 649.674,\n",
       "   'poster_path': '/gdIrmf2DdY5mgN6ycVP0XlzKzbE.jpg',\n",
       "   'first_air_date': '2013-12-02',\n",
       "   'name': 'Rick and Morty',\n",
       "   'vote_average': 8.702,\n",
       "   'vote_count': 9220},\n",
       "  {'adult': False,\n",
       "   'backdrop_path': '/97cicAYWu4cc0TyXJoDQiMmWI2t.jpg',\n",
       "   'genre_ids': [10759, 16, 10765, 35, 18],\n",
       "   'id': 31911,\n",
       "   'origin_country': ['JP'],\n",
       "   'original_language': 'ja',\n",
       "   'original_name': '鋼の錬金術師 FULLMETAL ALCHEMIST',\n",
       "   'overview': 'Disregard for alchemy’s laws ripped half of Edward Elric’s limbs from his body and left his brother Alphonse’s soul clinging to a suit of armor. To restore what was lost, the brothers seek the Philosopher’s Stone. Enemies and allies – the corrupt military, the Homunculi, and foreign alchemists – will alter the Elric brothers course, but their purpose will remain unchanged and their bond unbreakable.',\n",
       "   'popularity': 263.416,\n",
       "   'poster_path': '/5ZFUEOULaVml7pQuXxhpR2SmVUw.jpg',\n",
       "   'first_air_date': '2009-04-05',\n",
       "   'name': 'Fullmetal Alchemist: Brotherhood',\n",
       "   'vote_average': 8.694,\n",
       "   'vote_count': 1882},\n",
       "  {'adult': False,\n",
       "   'backdrop_path': '/70YdbMELM4b8x8VXjlubymb2bQ0.jpg',\n",
       "   'genre_ids': [18, 10751],\n",
       "   'id': 70785,\n",
       "   'origin_country': ['CA'],\n",
       "   'original_language': 'en',\n",
       "   'original_name': 'Anne with an E',\n",
       "   'overview': 'A coming-of-age story about an outsider who, against all odds and numerous challenges, fights for love and acceptance and for her place in the world. The series centers on a young orphaned girl in the late 1890’s, who, after an abusive childhood spent in orphanages and the homes of strangers, is mistakenly sent to live with an elderly woman and her aging brother. Over time, 13-year-old Anne will transform their lives and eventually the small town in which they live with her unique spirit, fierce intellect and brilliant imagination.',\n",
       "   'popularity': 121.884,\n",
       "   'poster_path': '/6P6tXhjT5tK3qOXzxF9OMLlG7iz.jpg',\n",
       "   'first_air_date': '2017-03-19',\n",
       "   'name': 'Anne with an E',\n",
       "   'vote_average': 8.7,\n",
       "   'vote_count': 4505},\n",
       "  {'adult': False,\n",
       "   'backdrop_path': '/mGFRWVfH0HTTVighIXjtO2Vkz4z.jpg',\n",
       "   'genre_ids': [10759, 16, 18],\n",
       "   'id': 225180,\n",
       "   'origin_country': ['US'],\n",
       "   'original_language': 'en',\n",
       "   'original_name': 'BLUE EYE SAMURAI',\n",
       "   'overview': 'Driven by a dream of revenge against those who made her an outcast in Edo-period Japan, a young warrior cuts a bloody path toward her destiny.',\n",
       "   'popularity': 96.274,\n",
       "   'poster_path': '/fXm3JT4WLQVnwukdvghtAblc1wc.jpg',\n",
       "   'first_air_date': '2023-11-03',\n",
       "   'name': 'BLUE EYE SAMURAI',\n",
       "   'vote_average': 8.678,\n",
       "   'vote_count': 259},\n",
       "  {'adult': False,\n",
       "   'backdrop_path': '/nTvM4mhqNlHIvUkI1gVnW6XP7GG.jpg',\n",
       "   'genre_ids': [16, 10759, 10765],\n",
       "   'id': 85937,\n",
       "   'origin_country': ['JP'],\n",
       "   'original_language': 'ja',\n",
       "   'original_name': '鬼滅の刃',\n",
       "   'overview': 'It is the Taisho Period in Japan. Tanjiro, a kindhearted boy who sells charcoal for a living, finds his family slaughtered by a demon. To make matters worse, his younger sister Nezuko, the sole survivor, has been transformed into a demon herself. Though devastated by this grim reality, Tanjiro resolves to become a “demon slayer” so that he can turn his sister back into a human, and kill the demon that massacred his family.',\n",
       "   'popularity': 142.151,\n",
       "   'poster_path': '/xUfRZu2mi8jH6SzQEJGP6tjBuYj.jpg',\n",
       "   'first_air_date': '2019-04-06',\n",
       "   'name': 'Demon Slayer: Kimetsu no Yaiba',\n",
       "   'vote_average': 8.7,\n",
       "   'vote_count': 5921},\n",
       "  {'adult': False,\n",
       "   'backdrop_path': '/7iTOLVTKoBLwDYcoOA1qTS6NY5y.jpg',\n",
       "   'genre_ids': [16, 10762, 35],\n",
       "   'id': 82728,\n",
       "   'origin_country': ['AU'],\n",
       "   'original_language': 'en',\n",
       "   'original_name': 'Bluey',\n",
       "   'overview': 'Bluey is an inexhaustible six year-old Blue Heeler dog, who loves to play and turns everyday family life into extraordinary adventures, developing her imagination as well as her mental, physical and emotional resilience.',\n",
       "   'popularity': 371.5,\n",
       "   'poster_path': '/b9mY0X5T20ZM073hoa5n0dgmbfN.jpg',\n",
       "   'first_air_date': '2018-10-01',\n",
       "   'name': 'Bluey',\n",
       "   'vote_average': 8.672,\n",
       "   'vote_count': 433},\n",
       "  {'adult': False,\n",
       "   'backdrop_path': '/hPea3Qy5Gd6z4kJLUruBbwAH8Rm.jpg',\n",
       "   'genre_ids': [80, 18],\n",
       "   'id': 60059,\n",
       "   'origin_country': ['US'],\n",
       "   'original_language': 'en',\n",
       "   'original_name': 'Better Call Saul',\n",
       "   'overview': 'Six years before Saul Goodman meets Walter White. We meet him when the man who will become Saul Goodman is known as Jimmy McGill, a small-time lawyer searching for his destiny, and, more immediately, hustling to make ends meet. Working alongside, and, often, against Jimmy, is “fixer” Mike Ehrmantraut. The series tracks Jimmy’s transformation into Saul Goodman, the man who puts “criminal” in “criminal lawyer\".',\n",
       "   'popularity': 374.317,\n",
       "   'poster_path': '/fC2HDm5t0kHl7mTm7jxMR31b7by.jpg',\n",
       "   'first_air_date': '2015-02-08',\n",
       "   'name': 'Better Call Saul',\n",
       "   'vote_average': 8.665,\n",
       "   'vote_count': 4724},\n",
       "  {'adult': False,\n",
       "   'backdrop_path': '/20eIP9o5ebArmu2HxJutaBjhLf4.jpg',\n",
       "   'genre_ids': [18],\n",
       "   'id': 87108,\n",
       "   'origin_country': ['US'],\n",
       "   'original_language': 'en',\n",
       "   'original_name': 'Chernobyl',\n",
       "   'overview': 'The true story of one of the worst man-made catastrophes in history: the catastrophic nuclear accident at Chernobyl. A tale of the brave men and women who sacrificed to save Europe from unimaginable disaster.',\n",
       "   'popularity': 143.258,\n",
       "   'poster_path': '/hlLXt2tOPT6RRnjiUmoxyG1LTFi.jpg',\n",
       "   'first_air_date': '2019-05-06',\n",
       "   'name': 'Chernobyl',\n",
       "   'vote_average': 8.66,\n",
       "   'vote_count': 5776},\n",
       "  {'adult': False,\n",
       "   'backdrop_path': '/2w8FaLwwJTWr6ExUMeVgT2Th5YT.jpg',\n",
       "   'genre_ids': [16, 35, 18, 10759],\n",
       "   'id': 42705,\n",
       "   'origin_country': ['JP'],\n",
       "   'original_language': 'ja',\n",
       "   'original_name': 'はじめの一歩',\n",
       "   'overview': \"Makunouchi Ippo is an ordinary high school student in Japan. Since he spends most of his time away from school helping his mother run the family business, he doesn't get to enjoy his younger years like most teenagers. Always a target for bullying at school (the family fishing business grants him a distinct odor), Ippo's life is one of hardship. One of these after-school bullying sessions turns Ippo's life around for the better, as he is saved by a boxer named Takamura. He decides to follow in Takamura's footsteps and train to become a boxer, giving his life direction and purpose. Ippo's path to perfecting his pugilistic prowess is just beginning...\",\n",
       "   'popularity': 357.631,\n",
       "   'poster_path': '/i3U3J2MWovIBZBnZYYiOLBXqNJZ.jpg',\n",
       "   'first_air_date': '2000-10-03',\n",
       "   'name': 'Fighting Spirit',\n",
       "   'vote_average': 8.659,\n",
       "   'vote_count': 941},\n",
       "  {'adult': False,\n",
       "   'backdrop_path': '/cHyY5z4txdVyGtYMvBJhCqCcJso.jpg',\n",
       "   'genre_ids': [16, 10765, 18, 10759, 35],\n",
       "   'id': 92685,\n",
       "   'origin_country': ['US'],\n",
       "   'original_language': 'en',\n",
       "   'original_name': 'The Owl House',\n",
       "   'overview': \"An animated fantasy-comedy series that follows Luz, a self-assured teenage girl who accidentally stumbles upon a portal to a magical world where she befriends a rebellious witch, Eda, and an adorably tiny warrior, King. Despite not having magical abilities, Luz pursues her dream of becoming a witch by serving as Eda's apprentice at the Owl House and ultimately finds a new family in an unlikely setting.\",\n",
       "   'popularity': 246.925,\n",
       "   'poster_path': '/zhdy3PcNVE15wj1wrxn45ARZBnx.jpg',\n",
       "   'first_air_date': '2020-01-10',\n",
       "   'name': 'The Owl House',\n",
       "   'vote_average': 8.658,\n",
       "   'vote_count': 1480},\n",
       "  {'adult': False,\n",
       "   'backdrop_path': '/rqbCbjB19amtOtFQbb3K2lgm2zv.jpg',\n",
       "   'genre_ids': [16, 10765, 10759],\n",
       "   'id': 1429,\n",
       "   'origin_country': ['JP'],\n",
       "   'original_language': 'ja',\n",
       "   'original_name': '進撃の巨人',\n",
       "   'overview': 'Several hundred years ago, humans were nearly exterminated by Titans. Titans are typically several stories tall, seem to have no intelligence, devour human beings and, worst of all, seem to do it for the pleasure rather than as a food source. A small percentage of humanity survived by walling themselves in a city protected by extremely high walls, even taller than the biggest Titans. Flash forward to the present and the city has not seen a Titan in over 100 years. Teenage boy Eren and his foster sister Mikasa witness something horrific as the city walls are destroyed by a Colossal Titan that appears out of thin air. As the smaller Titans flood the city, the two kids watch in horror as their mother is eaten alive. Eren vows that he will murder every single Titan and take revenge for all of mankind.',\n",
       "   'popularity': 192.506,\n",
       "   'poster_path': '/hTP1DtLGFamjfu8WqjnuQdP1n4i.jpg',\n",
       "   'first_air_date': '2013-04-07',\n",
       "   'name': 'Attack on Titan',\n",
       "   'vote_average': 8.658,\n",
       "   'vote_count': 5942},\n",
       "  {'adult': False,\n",
       "   'backdrop_path': '/6UH52Fmau8RPsMAbQbjwN3wJSCj.jpg',\n",
       "   'genre_ids': [16, 10765, 10759, 18],\n",
       "   'id': 95557,\n",
       "   'origin_country': ['US'],\n",
       "   'original_language': 'en',\n",
       "   'original_name': 'Invincible',\n",
       "   'overview': 'Mark Grayson is a normal teenager except for the fact that his father is the most powerful superhero on the planet. Shortly after his seventeenth birthday, Mark begins to develop powers of his own and enters into his father’s tutelage.',\n",
       "   'popularity': 188.514,\n",
       "   'poster_path': '/dMOpdkrDC5dQxqNydgKxXjBKyAc.jpg',\n",
       "   'first_air_date': '2021-03-25',\n",
       "   'name': 'Invincible',\n",
       "   'vote_average': 8.656,\n",
       "   'vote_count': 4086},\n",
       "  {'adult': False,\n",
       "   'backdrop_path': '/smSbK5cd8T9XHcxEUcems23BDEF.jpg',\n",
       "   'genre_ids': [18, 10765, 35],\n",
       "   'id': 67915,\n",
       "   'origin_country': ['KR'],\n",
       "   'original_language': 'ko',\n",
       "   'original_name': '쓸쓸하고 찬란하神-도깨비',\n",
       "   'overview': 'In his quest for a bride to break his immortal curse, a 939-year-old guardian of souls meets a grim reaper and a sprightly student with a tragic past.',\n",
       "   'popularity': 111.738,\n",
       "   'poster_path': '/sPkxHNw5BFvuCFGWw825TS7n6X3.jpg',\n",
       "   'first_air_date': '2016-12-02',\n",
       "   'name': 'Goblin',\n",
       "   'vote_average': 8.652,\n",
       "   'vote_count': 2599},\n",
       "  {'adult': False,\n",
       "   'backdrop_path': '/jsXKG9uppnPrhqFNhImllyCfLhl.jpg',\n",
       "   'genre_ids': [10759, 16, 10765],\n",
       "   'id': 65930,\n",
       "   'origin_country': ['JP'],\n",
       "   'original_language': 'ja',\n",
       "   'original_name': '僕のヒーローアカデミア',\n",
       "   'overview': 'A superhero-admiring boy without any powers enrolls in a prestigious hero academy and learns what it really means to be a hero.',\n",
       "   'popularity': 103.88,\n",
       "   'poster_path': '/qIKNIkxXYIro6JjNIGyqumrVUKL.jpg',\n",
       "   'first_air_date': '2016-04-03',\n",
       "   'name': 'My Hero Academia',\n",
       "   'vote_average': 8.6,\n",
       "   'vote_count': 4651},\n",
       "  {'adult': False,\n",
       "   'backdrop_path': '/mOlEbXcb6ufRJKogI35KqsSlCfB.jpg',\n",
       "   'genre_ids': [16, 9648, 10765],\n",
       "   'id': 13916,\n",
       "   'origin_country': ['JP'],\n",
       "   'original_language': 'ja',\n",
       "   'original_name': 'DEATH NOTE',\n",
       "   'overview': 'Light Yagami is an ace student with great prospects—and he’s bored out of his mind. But all that changes when he finds the Death Note, a notebook dropped by a rogue Shinigami death god. Any human whose name is written in the notebook dies, and Light has vowed to use the power of the Death Note to rid the world of evil. But will Light succeed in his noble goal, or will the Death Note turn him into the very thing he fights against?',\n",
       "   'popularity': 124.555,\n",
       "   'poster_path': '/tCZFfYTIwrR7n94J6G14Y4hAFU6.jpg',\n",
       "   'first_air_date': '2006-10-04',\n",
       "   'name': 'Death Note',\n",
       "   'vote_average': 8.637,\n",
       "   'vote_count': 3844}],\n",
       " 'total_pages': 96,\n",
       " 'total_results': 1917}"
      ]
     },
     "execution_count": 6,
     "metadata": {},
     "output_type": "execute_result"
    }
   ],
   "source": [
    "response.json()"
   ]
  },
  {
   "cell_type": "markdown",
   "metadata": {},
   "source": [
    "### Data frame created for the pandas dataframe"
   ]
  },
  {
   "cell_type": "code",
   "execution_count": 7,
   "metadata": {},
   "outputs": [
    {
     "data": {
      "text/html": [
       "<div>\n",
       "<style scoped>\n",
       "    .dataframe tbody tr th:only-of-type {\n",
       "        vertical-align: middle;\n",
       "    }\n",
       "\n",
       "    .dataframe tbody tr th {\n",
       "        vertical-align: top;\n",
       "    }\n",
       "\n",
       "    .dataframe thead th {\n",
       "        text-align: right;\n",
       "    }\n",
       "</style>\n",
       "<table border=\"1\" class=\"dataframe\">\n",
       "  <thead>\n",
       "    <tr style=\"text-align: right;\">\n",
       "      <th></th>\n",
       "      <th>adult</th>\n",
       "      <th>backdrop_path</th>\n",
       "      <th>genre_ids</th>\n",
       "      <th>id</th>\n",
       "      <th>origin_country</th>\n",
       "      <th>original_language</th>\n",
       "      <th>original_name</th>\n",
       "      <th>overview</th>\n",
       "      <th>popularity</th>\n",
       "      <th>poster_path</th>\n",
       "      <th>first_air_date</th>\n",
       "      <th>name</th>\n",
       "      <th>vote_average</th>\n",
       "      <th>vote_count</th>\n",
       "    </tr>\n",
       "  </thead>\n",
       "  <tbody>\n",
       "    <tr>\n",
       "      <th>0</th>\n",
       "      <td>False</td>\n",
       "      <td>/AvsNXUbP7UKCVnypyx2eWp8z2N3.jpg</td>\n",
       "      <td>[16, 35, 10765]</td>\n",
       "      <td>94954</td>\n",
       "      <td>[US]</td>\n",
       "      <td>en</td>\n",
       "      <td>Hazbin Hotel</td>\n",
       "      <td>In attempt to find a non-violent alternative f...</td>\n",
       "      <td>370.499</td>\n",
       "      <td>/rXojaQcxVUubPLSrFV8PD4xdjrs.jpg</td>\n",
       "      <td>2024-01-18</td>\n",
       "      <td>Hazbin Hotel</td>\n",
       "      <td>9.058</td>\n",
       "      <td>695</td>\n",
       "    </tr>\n",
       "    <tr>\n",
       "      <th>1</th>\n",
       "      <td>False</td>\n",
       "      <td>/9faGSFi5jam6pDWGNd0p8JcJgXQ.jpg</td>\n",
       "      <td>[18, 80]</td>\n",
       "      <td>1396</td>\n",
       "      <td>[US]</td>\n",
       "      <td>en</td>\n",
       "      <td>Breaking Bad</td>\n",
       "      <td>Walter White, a New Mexico chemistry teacher, ...</td>\n",
       "      <td>593.872</td>\n",
       "      <td>/ztkUQFLlC19CCMYHW9o1zWhJRNq.jpg</td>\n",
       "      <td>2008-01-20</td>\n",
       "      <td>Breaking Bad</td>\n",
       "      <td>8.904</td>\n",
       "      <td>13224</td>\n",
       "    </tr>\n",
       "  </tbody>\n",
       "</table>\n",
       "</div>"
      ],
      "text/plain": [
       "   adult                     backdrop_path        genre_ids     id  \\\n",
       "0  False  /AvsNXUbP7UKCVnypyx2eWp8z2N3.jpg  [16, 35, 10765]  94954   \n",
       "1  False  /9faGSFi5jam6pDWGNd0p8JcJgXQ.jpg         [18, 80]   1396   \n",
       "\n",
       "  origin_country original_language original_name  \\\n",
       "0           [US]                en  Hazbin Hotel   \n",
       "1           [US]                en  Breaking Bad   \n",
       "\n",
       "                                            overview  popularity  \\\n",
       "0  In attempt to find a non-violent alternative f...     370.499   \n",
       "1  Walter White, a New Mexico chemistry teacher, ...     593.872   \n",
       "\n",
       "                        poster_path first_air_date          name  \\\n",
       "0  /rXojaQcxVUubPLSrFV8PD4xdjrs.jpg     2024-01-18  Hazbin Hotel   \n",
       "1  /ztkUQFLlC19CCMYHW9o1zWhJRNq.jpg     2008-01-20  Breaking Bad   \n",
       "\n",
       "   vote_average  vote_count  \n",
       "0         9.058         695  \n",
       "1         8.904       13224  "
      ]
     },
     "execution_count": 7,
     "metadata": {},
     "output_type": "execute_result"
    }
   ],
   "source": [
    "pd.DataFrame(response.json()['results']).head(2)"
   ]
  },
  {
   "cell_type": "code",
   "execution_count": 8,
   "metadata": {},
   "outputs": [],
   "source": [
    "df = pd.DataFrame(response.json()['results'])[['id','overview','name','popularity']]"
   ]
  },
  {
   "cell_type": "code",
   "execution_count": 9,
   "metadata": {},
   "outputs": [
    {
     "name": "stdout",
     "output_type": "stream",
     "text": [
      "<class 'pandas.core.frame.DataFrame'>\n",
      "RangeIndex: 20 entries, 0 to 19\n",
      "Data columns (total 4 columns):\n",
      " #   Column      Non-Null Count  Dtype  \n",
      "---  ------      --------------  -----  \n",
      " 0   id          20 non-null     int64  \n",
      " 1   overview    20 non-null     object \n",
      " 2   name        20 non-null     object \n",
      " 3   popularity  20 non-null     float64\n",
      "dtypes: float64(1), int64(1), object(2)\n",
      "memory usage: 768.0+ bytes\n"
     ]
    }
   ],
   "source": [
    "df.info()"
   ]
  },
  {
   "cell_type": "markdown",
   "metadata": {},
   "source": [
    "As i can see i have just 19 movie information so what has happened is that i have been able to scrape information for 1 page now i will scrape the information for more than 1 page"
   ]
  },
  {
   "cell_type": "markdown",
   "metadata": {},
   "source": [
    "Step-1 Creating an empty data frame"
   ]
  },
  {
   "cell_type": "code",
   "execution_count": 10,
   "metadata": {},
   "outputs": [],
   "source": [
    "df = pd.DataFrame()"
   ]
  },
  {
   "cell_type": "code",
   "execution_count": 11,
   "metadata": {},
   "outputs": [
    {
     "data": {
      "text/html": [
       "<div>\n",
       "<style scoped>\n",
       "    .dataframe tbody tr th:only-of-type {\n",
       "        vertical-align: middle;\n",
       "    }\n",
       "\n",
       "    .dataframe tbody tr th {\n",
       "        vertical-align: top;\n",
       "    }\n",
       "\n",
       "    .dataframe thead th {\n",
       "        text-align: right;\n",
       "    }\n",
       "</style>\n",
       "<table border=\"1\" class=\"dataframe\">\n",
       "  <thead>\n",
       "    <tr style=\"text-align: right;\">\n",
       "      <th></th>\n",
       "    </tr>\n",
       "  </thead>\n",
       "  <tbody>\n",
       "  </tbody>\n",
       "</table>\n",
       "</div>"
      ],
      "text/plain": [
       "Empty DataFrame\n",
       "Columns: []\n",
       "Index: []"
      ]
     },
     "execution_count": 11,
     "metadata": {},
     "output_type": "execute_result"
    }
   ],
   "source": [
    "df"
   ]
  },
  {
   "cell_type": "markdown",
   "metadata": {},
   "source": [
    "Step-2 now i will run a loop"
   ]
  },
  {
   "cell_type": "code",
   "execution_count": 12,
   "metadata": {},
   "outputs": [],
   "source": [
    "for i in range(1, 97):\n",
    "    response = requests.get('https://api.themoviedb.org/3/tv/top_rated?api_key=bdb8572e4f633e811a0a00aeaba70fe8&language=en-US&page={}'.format(i))\n",
    "    try:\n",
    "        # Storing the data of page 1 in temp_df variable\n",
    "        temp_df = pd.DataFrame(response.json()['results'])[['id','overview','name','popularity']]\n",
    "        # adding that variable inside our empty dataframe and ignoring index so that the index of temp variable does not fuck up with our df variable\n",
    "        df = pd.concat([df, temp_df], ignore_index=True) \n",
    "    except KeyError:\n",
    "        print(f\"Error on page: {i}\") \n",
    "        print(\"API Response:\")\n",
    "        print(response.json())\n"
   ]
  },
  {
   "cell_type": "code",
   "execution_count": 13,
   "metadata": {},
   "outputs": [
    {
     "data": {
      "text/html": [
       "<div>\n",
       "<style scoped>\n",
       "    .dataframe tbody tr th:only-of-type {\n",
       "        vertical-align: middle;\n",
       "    }\n",
       "\n",
       "    .dataframe tbody tr th {\n",
       "        vertical-align: top;\n",
       "    }\n",
       "\n",
       "    .dataframe thead th {\n",
       "        text-align: right;\n",
       "    }\n",
       "</style>\n",
       "<table border=\"1\" class=\"dataframe\">\n",
       "  <thead>\n",
       "    <tr style=\"text-align: right;\">\n",
       "      <th></th>\n",
       "      <th>id</th>\n",
       "      <th>overview</th>\n",
       "      <th>name</th>\n",
       "      <th>popularity</th>\n",
       "    </tr>\n",
       "  </thead>\n",
       "  <tbody>\n",
       "    <tr>\n",
       "      <th>0</th>\n",
       "      <td>94954</td>\n",
       "      <td>In attempt to find a non-violent alternative f...</td>\n",
       "      <td>Hazbin Hotel</td>\n",
       "      <td>370.499</td>\n",
       "    </tr>\n",
       "    <tr>\n",
       "      <th>1</th>\n",
       "      <td>1396</td>\n",
       "      <td>Walter White, a New Mexico chemistry teacher, ...</td>\n",
       "      <td>Breaking Bad</td>\n",
       "      <td>593.872</td>\n",
       "    </tr>\n",
       "    <tr>\n",
       "      <th>2</th>\n",
       "      <td>94605</td>\n",
       "      <td>Amid the stark discord of twin cities Piltover...</td>\n",
       "      <td>Arcane</td>\n",
       "      <td>94.756</td>\n",
       "    </tr>\n",
       "    <tr>\n",
       "      <th>3</th>\n",
       "      <td>37854</td>\n",
       "      <td>Years ago, the fearsome Pirate King, Gol D. Ro...</td>\n",
       "      <td>One Piece</td>\n",
       "      <td>289.955</td>\n",
       "    </tr>\n",
       "    <tr>\n",
       "      <th>4</th>\n",
       "      <td>246</td>\n",
       "      <td>In a war-torn world of elemental magic, a youn...</td>\n",
       "      <td>Avatar: The Last Airbender</td>\n",
       "      <td>292.363</td>\n",
       "    </tr>\n",
       "    <tr>\n",
       "      <th>...</th>\n",
       "      <td>...</td>\n",
       "      <td>...</td>\n",
       "      <td>...</td>\n",
       "      <td>...</td>\n",
       "    </tr>\n",
       "    <tr>\n",
       "      <th>1912</th>\n",
       "      <td>4551</td>\n",
       "      <td>A weekly talent competition where an array of ...</td>\n",
       "      <td>America's Got Talent</td>\n",
       "      <td>413.629</td>\n",
       "    </tr>\n",
       "    <tr>\n",
       "      <th>1913</th>\n",
       "      <td>90755</td>\n",
       "      <td>Wiped clean of memories and thrown together, a...</td>\n",
       "      <td>The I-Land</td>\n",
       "      <td>31.483</td>\n",
       "    </tr>\n",
       "    <tr>\n",
       "      <th>1914</th>\n",
       "      <td>130392</td>\n",
       "      <td>From relative obscurity and a seemingly normal...</td>\n",
       "      <td>The D'Amelio Show</td>\n",
       "      <td>43.817</td>\n",
       "    </tr>\n",
       "    <tr>\n",
       "      <th>1915</th>\n",
       "      <td>10160</td>\n",
       "      <td>American version of the reality game show whic...</td>\n",
       "      <td>Big Brother</td>\n",
       "      <td>536.622</td>\n",
       "    </tr>\n",
       "    <tr>\n",
       "      <th>1916</th>\n",
       "      <td>126725</td>\n",
       "      <td>Jinkies! This raucous reimagining of the Scoob...</td>\n",
       "      <td>Velma</td>\n",
       "      <td>45.497</td>\n",
       "    </tr>\n",
       "  </tbody>\n",
       "</table>\n",
       "<p>1917 rows × 4 columns</p>\n",
       "</div>"
      ],
      "text/plain": [
       "          id                                           overview  \\\n",
       "0      94954  In attempt to find a non-violent alternative f...   \n",
       "1       1396  Walter White, a New Mexico chemistry teacher, ...   \n",
       "2      94605  Amid the stark discord of twin cities Piltover...   \n",
       "3      37854  Years ago, the fearsome Pirate King, Gol D. Ro...   \n",
       "4        246  In a war-torn world of elemental magic, a youn...   \n",
       "...      ...                                                ...   \n",
       "1912    4551  A weekly talent competition where an array of ...   \n",
       "1913   90755  Wiped clean of memories and thrown together, a...   \n",
       "1914  130392  From relative obscurity and a seemingly normal...   \n",
       "1915   10160  American version of the reality game show whic...   \n",
       "1916  126725  Jinkies! This raucous reimagining of the Scoob...   \n",
       "\n",
       "                            name  popularity  \n",
       "0                   Hazbin Hotel     370.499  \n",
       "1                   Breaking Bad     593.872  \n",
       "2                         Arcane      94.756  \n",
       "3                      One Piece     289.955  \n",
       "4     Avatar: The Last Airbender     292.363  \n",
       "...                          ...         ...  \n",
       "1912        America's Got Talent     413.629  \n",
       "1913                  The I-Land      31.483  \n",
       "1914           The D'Amelio Show      43.817  \n",
       "1915                 Big Brother     536.622  \n",
       "1916                       Velma      45.497  \n",
       "\n",
       "[1917 rows x 4 columns]"
      ]
     },
     "execution_count": 13,
     "metadata": {},
     "output_type": "execute_result"
    }
   ],
   "source": [
    "df"
   ]
  },
  {
   "cell_type": "code",
   "execution_count": 14,
   "metadata": {},
   "outputs": [
    {
     "data": {
      "text/plain": [
       "(1917, 4)"
      ]
     },
     "execution_count": 14,
     "metadata": {},
     "output_type": "execute_result"
    }
   ],
   "source": [
    "df.shape"
   ]
  },
  {
   "cell_type": "code",
   "execution_count": 16,
   "metadata": {},
   "outputs": [],
   "source": [
    "df.to_csv('movies.csv', sep=',', index=False)"
   ]
  },
  {
   "cell_type": "markdown",
   "metadata": {},
   "source": [
    "rapidapi is a website that has shit ton of free api datasets\n",
    "it has amazon api and insta api and etc"
   ]
  }
 ],
 "metadata": {
  "kernelspec": {
   "display_name": "venv",
   "language": "python",
   "name": "python3"
  },
  "language_info": {
   "codemirror_mode": {
    "name": "ipython",
    "version": 3
   },
   "file_extension": ".py",
   "mimetype": "text/x-python",
   "name": "python",
   "nbconvert_exporter": "python",
   "pygments_lexer": "ipython3",
   "version": "3.10.9"
  }
 },
 "nbformat": 4,
 "nbformat_minor": 2
}
